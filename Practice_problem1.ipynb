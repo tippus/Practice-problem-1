{
  "nbformat": 4,
  "nbformat_minor": 0,
  "metadata": {
    "colab": {
      "provenance": []
    },
    "kernelspec": {
      "name": "python3",
      "display_name": "Python 3"
    },
    "language_info": {
      "name": "python"
    }
  },
  "cells": [
    {
      "cell_type": "code",
      "execution_count": null,
      "metadata": {
        "id": "THnQsYn6nawe"
      },
      "outputs": [],
      "source": []
    },
    {
      "cell_type": "markdown",
      "source": [
        "1.Write a python program to find area of circle."
      ],
      "metadata": {
        "id": "kM-5WXLvnsbp"
      }
    },
    {
      "cell_type": "code",
      "source": [
        "pi = 3.14\n",
        "radius = float(input('enter the radius'))\n",
        "area = pi * radius * radius\n",
        "print('Area of circle is', area)"
      ],
      "metadata": {
        "colab": {
          "base_uri": "https://localhost:8080/"
        },
        "id": "C4qmjINWn8dS",
        "outputId": "ff93acff-e98a-4569-9dd4-81b1fecd623b"
      },
      "execution_count": null,
      "outputs": [
        {
          "output_type": "stream",
          "name": "stdout",
          "text": [
            "enter the radius3\n",
            "Area of circle is 28.259999999999998\n"
          ]
        }
      ]
    },
    {
      "cell_type": "markdown",
      "source": [
        "2.Write a python program to accept details of students"
      ],
      "metadata": {
        "id": "IiPkuM-np9VP"
      }
    },
    {
      "cell_type": "code",
      "source": [
        "Name = input('Enter the name')\n",
        "Rollno = input('enter the roll no')\n",
        "Mark = input ('enter  the mark')\n",
        "print('Name:' , Name)\n",
        "print('Roll no:', Rollno)\n",
        "print('Mark:' , Mark)"
      ],
      "metadata": {
        "colab": {
          "base_uri": "https://localhost:8080/"
        },
        "id": "iTYiGKBRqp52",
        "outputId": "2100e5bc-803a-4c8e-f6c8-6e337c17f1a3"
      },
      "execution_count": null,
      "outputs": [
        {
          "output_type": "stream",
          "name": "stdout",
          "text": [
            "Enter the nameAnisha\n",
            "enter the roll no21\n",
            "enter  the mark78\n",
            "Name: Anisha\n",
            "Roll no: 21\n",
            "Mark: 78\n"
          ]
        }
      ]
    },
    {
      "cell_type": "markdown",
      "source": [
        "3.Write a python program to find largest number from a list"
      ],
      "metadata": {
        "id": "n3ggczCNvuo_"
      }
    },
    {
      "cell_type": "code",
      "source": [
        "n1,n2,n3,n4, = 12, 3, 47,10\n",
        "if n1>n2 and n1>n3 and n1>n4:\n",
        "  print('the largest number is', n1)\n",
        "elif n2>n1 and n2>n3 and n2>n4:\n",
        "  print('the largest number is',n2)\n",
        "elif n3>n1 and n3>n2 and n3>n4:\n",
        "  print('the largest number is' , n3)\n",
        "else:\n",
        "  print('the largest number is ', n4)"
      ],
      "metadata": {
        "colab": {
          "base_uri": "https://localhost:8080/"
        },
        "id": "r-g7nfCCvs4U",
        "outputId": "93cb999f-69fe-4d6d-ce4f-34f530737065"
      },
      "execution_count": null,
      "outputs": [
        {
          "output_type": "stream",
          "name": "stdout",
          "text": [
            "the largest number is 47\n"
          ]
        }
      ]
    },
    {
      "cell_type": "markdown",
      "source": [
        " 4.Given a range of first 10 numbers, write a Python program to iterate from\n",
        "start number to the end number and print the sum of the current number\n",
        "and previous number.\n",
        "\n",
        "\n"
      ],
      "metadata": {
        "id": "GTEylJNyy_9a"
      }
    },
    {
      "cell_type": "code",
      "source": [
        "for num in range(1,11):\n",
        " print(num)\n",
        " previousnum = 0\n",
        "for i in range(1,11):\n",
        " sum = previousnum + i\n",
        " print('currentnumber', i)\n",
        " print('previousnumber', previousnum)\n",
        " print('sum',sum)\n",
        " previousnum =i"
      ],
      "metadata": {
        "colab": {
          "base_uri": "https://localhost:8080/"
        },
        "id": "ClVn73Qgy_b4",
        "outputId": "5dc1dc1b-f8bd-4f25-d44f-1b0c1970d5da"
      },
      "execution_count": null,
      "outputs": [
        {
          "output_type": "stream",
          "name": "stdout",
          "text": [
            "1\n",
            "2\n",
            "3\n",
            "4\n",
            "5\n",
            "6\n",
            "7\n",
            "8\n",
            "9\n",
            "10\n",
            "currentnumber 1\n",
            "previousnumber 0\n",
            "sum 1\n",
            "currentnumber 2\n",
            "previousnumber 1\n",
            "sum 3\n",
            "currentnumber 3\n",
            "previousnumber 2\n",
            "sum 5\n",
            "currentnumber 4\n",
            "previousnumber 3\n",
            "sum 7\n",
            "currentnumber 5\n",
            "previousnumber 4\n",
            "sum 9\n",
            "currentnumber 6\n",
            "previousnumber 5\n",
            "sum 11\n",
            "currentnumber 7\n",
            "previousnumber 6\n",
            "sum 13\n",
            "currentnumber 8\n",
            "previousnumber 7\n",
            "sum 15\n",
            "currentnumber 9\n",
            "previousnumber 8\n",
            "sum 17\n",
            "currentnumber 10\n",
            "previousnumber 9\n",
            "sum 19\n"
          ]
        }
      ]
    },
    {
      "cell_type": "markdown",
      "source": [
        "5. Write a python program to print those numbers which are only divisible by 5"
      ],
      "metadata": {
        "id": "atyhfUUU6c2X"
      }
    },
    {
      "cell_type": "code",
      "source": [
        "list1 =[10,20,33,46,55]\n",
        "print(list1)\n",
        "for num in list1:\n",
        "  if num%5 == 0:\n",
        "   print(num)"
      ],
      "metadata": {
        "colab": {
          "base_uri": "https://localhost:8080/"
        },
        "id": "QcLWtYa76cWB",
        "outputId": "8493c8f6-d998-4732-a4fe-56773ea7413e"
      },
      "execution_count": null,
      "outputs": [
        {
          "output_type": "stream",
          "name": "stdout",
          "text": [
            "[10, 20, 33, 46, 55]\n",
            "10\n",
            "20\n",
            "55\n"
          ]
        }
      ]
    },
    {
      "cell_type": "code",
      "source": [
        "6.Write a program to check whether given number is prime or not"
      ],
      "metadata": {
        "id": "f8Vw_q5S8MfS"
      },
      "execution_count": null,
      "outputs": []
    },
    {
      "cell_type": "code",
      "source": [
        "number = int(input('enter a the number'))\n",
        "for test in range ( 2, number//2):\n",
        "  if number%test ==0:\n",
        "    print(number ,'is  not a prime number')\n",
        "    break\n",
        "else:\n",
        "  print(number , \"is a prime number\")\n"
      ],
      "metadata": {
        "colab": {
          "base_uri": "https://localhost:8080/"
        },
        "id": "idO-NmKw8dP_",
        "outputId": "2b205a03-d58a-41c9-c009-0bf1ce822870"
      },
      "execution_count": null,
      "outputs": [
        {
          "output_type": "stream",
          "name": "stdout",
          "text": [
            "enter a the number3\n",
            "3 is a prime number\n"
          ]
        }
      ]
    },
    {
      "cell_type": "markdown",
      "source": [
        "7. Write a Python program to reverse a list using for loop"
      ],
      "metadata": {
        "id": "jVmrRytgBVJ-"
      }
    },
    {
      "cell_type": "code",
      "source": [
        "list2= [10,40, 30, 70]\n",
        "print(list2)\n",
        "print(list2[::-1])\n"
      ],
      "metadata": {
        "colab": {
          "base_uri": "https://localhost:8080/"
        },
        "id": "CrNUHPjnA5Fi",
        "outputId": "031f5ff5-8e55-4564-bf11-6bd3689e8875"
      },
      "execution_count": null,
      "outputs": [
        {
          "output_type": "stream",
          "name": "stdout",
          "text": [
            "[10, 40, 30, 70]\n",
            "[70, 30, 40, 10]\n"
          ]
        }
      ]
    },
    {
      "cell_type": "markdown",
      "source": [
        "8.Write a program to print the following pattern.\n"
      ],
      "metadata": {
        "id": "dJx66GHmEJl3"
      }
    },
    {
      "cell_type": "code",
      "source": [
        "n=4\n",
        "\n",
        "for i in range(n) :\n",
        "  for j in range(i+1):\n",
        "    print('*',end='')\n",
        "  print()"
      ],
      "metadata": {
        "colab": {
          "base_uri": "https://localhost:8080/"
        },
        "id": "VmUpjlG8EJFw",
        "outputId": "18fb182a-775a-43f4-cf86-02d6390bbb8a"
      },
      "execution_count": 3,
      "outputs": [
        {
          "output_type": "stream",
          "name": "stdout",
          "text": [
            "*\n",
            "**\n",
            "***\n",
            "****\n"
          ]
        }
      ]
    },
    {
      "cell_type": "markdown",
      "source": [
        "9. Write a python program to find maximum of 3 numbers"
      ],
      "metadata": {
        "id": "lRlvUIl_Fai-"
      }
    },
    {
      "cell_type": "code",
      "source": [
        "num4= float(input('enter the first number'))\n",
        "num5= float(input('enter the second number'))\n",
        "num6= float(input('enter the third number'))\n",
        "\n",
        "if (num4>=num5) and (num4>=num6):\n",
        "  print('the largest number is', num4)\n",
        "elif (num5>=num4) and (num5>=num6) :\n",
        "  print('the largest number is',num5)\n",
        "else:\n",
        "  print('the largest number is', num6)"
      ],
      "metadata": {
        "colab": {
          "base_uri": "https://localhost:8080/"
        },
        "id": "dtYB0Si4FoEx",
        "outputId": "ac13fdb6-450b-400b-9f8a-86f3895f16f9"
      },
      "execution_count": null,
      "outputs": [
        {
          "output_type": "stream",
          "name": "stdout",
          "text": [
            "enter the first number34\n",
            "enter the second number12\n",
            "enter the third number7\n",
            "the largest number is 34.0\n"
          ]
        }
      ]
    },
    {
      "cell_type": "markdown",
      "source": [
        "10. Write a python program to create foollowing pattern using nested for loop"
      ],
      "metadata": {
        "id": "Zx-JEQyRKAe3"
      }
    },
    {
      "cell_type": "code",
      "source": [
        "n=5\n",
        "\n",
        "for i in range(n) :\n",
        "  for j in range(i+1):\n",
        "    print('*',end='')\n",
        "  print()\n",
        "for i in range(n) :\n",
        "  for j in range(i,n):\n",
        "    print('*',end='')\n",
        "  print()"
      ],
      "metadata": {
        "id": "9-aHDWl3KNyk",
        "colab": {
          "base_uri": "https://localhost:8080/"
        },
        "outputId": "ab3bd713-e8bd-4ce3-c064-36c23e14825d"
      },
      "execution_count": 1,
      "outputs": [
        {
          "output_type": "stream",
          "name": "stdout",
          "text": [
            "*\n",
            "**\n",
            "***\n",
            "****\n",
            "*****\n",
            "*****\n",
            "****\n",
            "***\n",
            "**\n",
            "*\n"
          ]
        }
      ]
    }
  ]
}